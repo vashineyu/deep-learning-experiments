{
 "cells": [
  {
   "cell_type": "code",
   "execution_count": 1,
   "metadata": {},
   "outputs": [],
   "source": [
    "import argparse\n",
    "import os\n",
    "import numpy as np\n",
    "import sys\n",
    "from config import get_cfg_defaults\n",
    "\n",
    "parser = argparse.ArgumentParser()\n",
    "parser.add_argument(\n",
    "    \"--config-file\",\n",
    "    default=None,\n",
    "    metavar=\"FILE\",\n",
    "    help=\"path to config file\",\n",
    "    type=str,\n",
    "    )\n",
    "parser.add_argument(\n",
    "        \"opts\",\n",
    "        help=\"Modify config options using the command-line\",\n",
    "        default=None,\n",
    "        nargs=argparse.REMAINDER,\n",
    "    )\n",
    "args = parser.parse_args([])"
   ]
  },
  {
   "cell_type": "code",
   "execution_count": 2,
   "metadata": {},
   "outputs": [],
   "source": [
    "cfg = get_cfg_defaults()\n",
    "if args.config_file is not None:\n",
    "    cfg.merge_from_file(args.config_file)\n",
    "if args.opts is not None:\n",
    "    cfg.merge_from_list(args.opts)\n",
    "cfg.freeze()\n",
    "\n",
    "os.environ[\"CUDA_DEVICE_ORDER\"]=\"PCI_BUS_ID\"\n",
    "os.environ[\"CUDA_VISIBLE_DEVICES\"] = str(cfg.SYSTEM.DEVICE)"
   ]
  },
  {
   "cell_type": "code",
   "execution_count": 3,
   "metadata": {},
   "outputs": [
    {
     "name": "stderr",
     "output_type": "stream",
     "text": [
      "/home/seanyu/.conda/envs/tf18_keras/lib/python3.6/site-packages/h5py/__init__.py:36: FutureWarning: Conversion of the second argument of issubdtype from `float` to `np.floating` is deprecated. In future, it will be treated as `np.float64 == np.dtype(float).type`.\n",
      "  from ._conv import register_converters as _register_converters\n"
     ]
    }
   ],
   "source": [
    "# model.py\n",
    "import tensorflow as tf\n",
    "import tensorflow.keras.layers as layers\n",
    "import tensorflow.keras.models as models\n",
    "import tensorflow.nn as F\n",
    "tf.enable_eager_execution()\n",
    "\n",
    "class Conv_bn_relu(models.Model):\n",
    "    \"\"\"Stack blocks of Conv2D->BN->relu.\n",
    "    \n",
    "    Args:\n",
    "      filters (int): numbers of filters of conv layer\n",
    "      kernel_size (int): filter size\n",
    "      strides (int): stride step\n",
    "      data_format (str): channels_first or channels_last\n",
    "      use_bias (bool): add bias to layer?\n",
    "    Returns:\n",
    "      tf.keras.model object\n",
    "    \"\"\"\n",
    "    def __init__(self, filters, kernel_size=3, strides=1, data_format=\"channels_last\",\n",
    "                 use_bias=True, **kwargs):\n",
    "        super(Conv_bn_relu, self).__init__(**kwargs)\n",
    "        \n",
    "        axis = -1 if data_format is \"channels_last\" else 1\n",
    "        \n",
    "        self.conv = Conv2DFixedPadding(filters=filters, kernel_size=kernel_size, strides=strides, use_bias=use_bias)\n",
    "        self.normalize = layers.BatchNormalization(axis=axis)\n",
    "        \n",
    "    def call(self, x, training=True):\n",
    "        x = self.conv(x)\n",
    "        x = self.normalize(x, training=training)\n",
    "        return F.relu(x)\n",
    "\n",
    "class StackCNN(models.Model):\n",
    "    \"\"\"Stack all required layers together.\n",
    "    \n",
    "    Args:\n",
    "      neurons_of_layers (list): list of filter size of convolution layers\n",
    "      output_units (int): units of output node\n",
    "    Returns:\n",
    "      tf.keras.model object\n",
    "    \"\"\"\n",
    "    def __init__(self, neurons_of_layers, output_units, **kwargs):\n",
    "        super(StackCNN, self).__init__(**kwargs)\n",
    "        \n",
    "        self.layers_list = []\n",
    "        for i, l in enumerate(neurons_of_layers):\n",
    "            if (i+1) != len(neurons_of_layers):\n",
    "                self.layers_list.append(Conv_bn_relu(filters=l, kernel_size=3, strides=1))\n",
    "                self.layers_list.append(layers.MaxPooling2D(pool_size=(2,2)))\n",
    "            else:\n",
    "                self.layers_list.append(Conv_bn_relu(filters=l, kernel_size=3, strides=1))\n",
    "                \n",
    "        self.layers_list.append(layers.Flatten())\n",
    "        self.layers_list.append(layers.Dense(units=output_units))\n",
    "    \n",
    "    def call(self, x, training=True):\n",
    "        for l in self.layers_list:\n",
    "            try:\n",
    "                # some customized layer should give training flags\n",
    "                x = l(x, training=training)\n",
    "            except:\n",
    "                # some original layers may not have training flags\n",
    "                x = l(x)\n",
    "        return F.softmax(x)\n",
    "\n",
    "## Fixed Functions ##\n",
    "def fixed_padding(inputs, kernel_size, data_format):\n",
    "    \"\"\"Pads the input along the spatial dimensions independently of input size.\n",
    "\n",
    "    This function is copied from:\n",
    "      https://github.com/tensorflow/models/blob/master/official/resnet/resnet_model.py\n",
    "\n",
    "    Args:\n",
    "      inputs: A tensor of size [batch, channels, height_in, width_in] or\n",
    "        [batch, height_in, width_in, channels] depending on data_format.\n",
    "      kernel_size: The kernel to be used in the conv2d or max_pool2d operation.\n",
    "        Should be a positive integer.\n",
    "      data_format: The input format ('channels_last' or 'channels_first').\n",
    "\n",
    "    Returns:\n",
    "      A tensor with the same format as the input with the data either intact\n",
    "    (if kernel_size == 1) or padded (if kernel_size > 1).\n",
    "\n",
    "\n",
    "    \"\"\"\n",
    "\n",
    "    pad_total = kernel_size - 1\n",
    "    pad_beg = pad_total // 2\n",
    "    pad_end = pad_total - pad_beg\n",
    "\n",
    "    if data_format == 'channels_first':\n",
    "        padded_inputs = tf.pad(tensor=inputs,\n",
    "                               paddings=[[0, 0], [0, 0], [pad_beg, pad_end],\n",
    "                                         [pad_beg, pad_end]])\n",
    "    else:\n",
    "        padded_inputs = tf.pad(tensor=inputs,\n",
    "                               paddings=[[0, 0], [pad_beg, pad_end],\n",
    "                                         [pad_beg, pad_end], [0, 0]])\n",
    "    return padded_inputs\n",
    "\n",
    "\n",
    "class Conv2DFixedPadding(models.Model):\n",
    "    \"\"\"Class for Strided 2-D convolution with explicit padding.\n",
    "\n",
    "    The padding is consistent and is based only on `kernel_size`, not on the\n",
    "    dimensions of `inputs` (as opposed to using `tf.layers.conv2d` alone).\n",
    "\n",
    "    This class is based on:\n",
    "      https://github.com/tensorflow/models/blob/master/official/resnet/resnet_model.py\n",
    "    \"\"\"\n",
    "\n",
    "    def __init__(self, filters, kernel_size=3, strides=1, data_format=\"channels_last\",\n",
    "                 use_bias=True, **kwargs):\n",
    "        super(Conv2DFixedPadding, self).__init__(**kwargs)\n",
    "        self.kernel_size = kernel_size\n",
    "        self.data_format = data_format\n",
    "        self.strides = strides\n",
    "\n",
    "        self.conv = layers.Conv2D(filters=filters, kernel_size=kernel_size,\n",
    "                                  strides=strides, padding=('SAME' if strides == 1 else 'VALID'),\n",
    "                                  use_bias=use_bias, data_format=data_format)\n",
    "    \n",
    "    def call(self, x):\n",
    "        if self.strides > 1:\n",
    "            x = fixed_padding(x, self.kernel_size, self.data_format)\n",
    "        return self.conv(x)"
   ]
  },
  {
   "cell_type": "code",
   "execution_count": 4,
   "metadata": {},
   "outputs": [],
   "source": [
    "from tensorflow.keras.datasets.cifar10 import load_data"
   ]
  },
  {
   "cell_type": "code",
   "execution_count": 5,
   "metadata": {},
   "outputs": [],
   "source": [
    "train, valid = load_data()\n",
    "x_train, y_train = train\n",
    "x_valid, y_valid = valid\n",
    "\n",
    "x_train = x_train / 255.\n",
    "x_valid = x_valid / 255.\n",
    "y_train = tf.keras.utils.to_categorical(y_train, 10)\n",
    "y_valid = tf.keras.utils.to_categorical(y_valid, 10)"
   ]
  },
  {
   "cell_type": "code",
   "execution_count": 6,
   "metadata": {},
   "outputs": [],
   "source": [
    "input_layer = layers.Input(shape=[32,32,3])\n",
    "module = StackCNN(neurons_of_layers=[32,32,64], output_units=10)(input_layer)\n",
    "model = models.Model(inputs=input_layer, outputs=module)\n",
    "model.compile(loss=\"categorical_crossentropy\", optimizer=tf.train.AdamOptimizer())"
   ]
  },
  {
   "cell_type": "code",
   "execution_count": 7,
   "metadata": {},
   "outputs": [
    {
     "name": "stdout",
     "output_type": "stream",
     "text": [
      "_________________________________________________________________\n",
      "Layer (type)                 Output Shape              Param #   \n",
      "=================================================================\n",
      "input_1 (InputLayer)         (None, 32, 32, 3)         0         \n",
      "_________________________________________________________________\n",
      "stack_cnn (StackCNN)         (None, 10)                70122     \n",
      "=================================================================\n",
      "Total params: 70,122\n",
      "Trainable params: 69,866\n",
      "Non-trainable params: 256\n",
      "_________________________________________________________________\n",
      "_________________________________________________________________\n",
      "Layer (type)                 Output Shape              Param #   \n",
      "=================================================================\n",
      "conv_bn_relu (Conv_bn_relu)  multiple                  1024      \n",
      "_________________________________________________________________\n",
      "max_pooling2d (MaxPooling2D) multiple                  0         \n",
      "_________________________________________________________________\n",
      "conv_bn_relu_1 (Conv_bn_relu multiple                  9376      \n",
      "_________________________________________________________________\n",
      "max_pooling2d_1 (MaxPooling2 multiple                  0         \n",
      "_________________________________________________________________\n",
      "conv_bn_relu_2 (Conv_bn_relu multiple                  18752     \n",
      "_________________________________________________________________\n",
      "flatten (Flatten)            multiple                  0         \n",
      "_________________________________________________________________\n",
      "dense (Dense)                multiple                  40970     \n",
      "=================================================================\n",
      "Total params: 70,122\n",
      "Trainable params: 69,866\n",
      "Non-trainable params: 256\n",
      "_________________________________________________________________\n"
     ]
    }
   ],
   "source": [
    "model.summary()\n",
    "model.get_layer('stack_cnn').summary()"
   ]
  },
  {
   "cell_type": "code",
   "execution_count": 10,
   "metadata": {},
   "outputs": [
    {
     "name": "stdout",
     "output_type": "stream",
     "text": [
      "Epoch 1/1\n",
      "391/391 [==============================] - 23s 58ms/step - loss: 0.7436 - val_loss: 0.9642\n"
     ]
    },
    {
     "data": {
      "text/plain": [
       "<tensorflow.python.keras.callbacks.History at 0x7f93c467a550>"
      ]
     },
     "execution_count": 10,
     "metadata": {},
     "output_type": "execute_result"
    }
   ],
   "source": [
    "model.fit(x_train, y_train, epochs=1, batch_size=128, shuffle=True, validation_data=(x_valid, y_valid))"
   ]
  }
 ],
 "metadata": {
  "kernelspec": {
   "display_name": "Python 3",
   "language": "python",
   "name": "python3"
  },
  "language_info": {
   "codemirror_mode": {
    "name": "ipython",
    "version": 3
   },
   "file_extension": ".py",
   "mimetype": "text/x-python",
   "name": "python",
   "nbconvert_exporter": "python",
   "pygments_lexer": "ipython3",
   "version": "3.6.5"
  }
 },
 "nbformat": 4,
 "nbformat_minor": 2
}
