{
 "cells": [
  {
   "cell_type": "code",
   "execution_count": 1,
   "metadata": {},
   "outputs": [],
   "source": [
    "import os\n",
    "from PIL import Image\n",
    "import cv2\n",
    "\n",
    "import numpy as np\n",
    "from random import shuffle\n",
    "import torch\n",
    "import torchvision\n",
    "from torchvision import transforms\n",
    "\n",
    "from tqdm import tqdm\n",
    "\n",
    "import imgaug as ia\n",
    "from imgaug import augmenters as iaa\n",
    "\n",
    "import matplotlib.pyplot as plt\n",
    "%matplotlib inline\n",
    "\n",
    "os.environ['CUDA_VISIBLE_DEVICES'] = \"0\"\n",
    "DATA_FOLDER=\"/data/seanyu/cat_dog/dataset/\"\n",
    "EPOCHS = 50"
   ]
  },
  {
   "cell_type": "code",
   "execution_count": 2,
   "metadata": {},
   "outputs": [],
   "source": [
    "trp = os.path.join(DATA_FOLDER, 'train')\n",
    "train_path = [os.path.join(trp, i) for i in os.listdir(trp)]\n",
    "\n",
    "trp = os.path.join(DATA_FOLDER, 'test1')\n",
    "test_path = [os.path.join(trp, i) for i in os.listdir(trp)]"
   ]
  },
  {
   "cell_type": "code",
   "execution_count": 3,
   "metadata": {},
   "outputs": [],
   "source": [
    "class DataGenerator():\n",
    "    \"\"\"Class for Data Loader\"\"\"\n",
    "    def __init__(self, file_list, transform=None, is_training=True):\n",
    "        \"\"\"\n",
    "        Args:\n",
    "            - file_path: list of image file path\n",
    "            - transform: optional transform to be used\n",
    "        \"\"\"\n",
    "        self.file_list = file_list\n",
    "        self.transform = transform\n",
    "        self.is_training = is_training\n",
    "        self.index = 0\n",
    "        \n",
    "    def __len__(self):\n",
    "        return len(self.file_list)\n",
    "    \n",
    "    def __getitem__(self, idx):\n",
    "        idx = idx % len(self.file_list)\n",
    "        img = cv2.cvtColor(cv2.imread(self.file_list[idx]), cv2.COLOR_BGR2RGB)\n",
    "        #sample = {'image': img}\n",
    "        sample = img\n",
    "        \n",
    "        if self.transform:\n",
    "            sample = self.transform(sample)\n",
    "            \n",
    "        if self.is_training:\n",
    "            label = ('cat' in os.path.basename(self.file_list[idx])) * 1\n",
    "        else:\n",
    "            label = None\n",
    "            \n",
    "        return sample, label\n",
    "    \n",
    "    def __iter__(self):\n",
    "        return self\n",
    "\n",
    "    def __next__(self):\n",
    "        if self.index == len(self):\n",
    "            shuffle(self.file_list)\n",
    "            self.index = 0\n",
    "        self.index += 1\n",
    "        return self.__getitem__(self.index-1)"
   ]
  },
  {
   "cell_type": "code",
   "execution_count": 4,
   "metadata": {},
   "outputs": [],
   "source": [
    "class Imgaug_transform():\n",
    "    def __init__(self):\n",
    "        self.aug = iaa.Sequential([iaa.Scale((224,224)),\n",
    "                                   iaa.Sometimes(0.5, iaa.AddToHueAndSaturation(value=(-15, 15), per_channel=True) ),\n",
    "                                   iaa.Fliplr(0.5),\n",
    "                                   iaa.Affine(rotate=(-15, 15), mode='wrap')\n",
    "                                   ])\n",
    "    def __call__(self, img):\n",
    "        img = self.aug.augment_image(img)\n",
    "        img = img.astype(np.float32) / 255.\n",
    "        return img\n",
    "    \n",
    "imgaug_tra = Imgaug_transform()\n",
    "\n",
    "py_tra = transforms.Compose([\n",
    "    Imgaug_transform(),\n",
    "    transforms.ToTensor()\n",
    "])"
   ]
  },
  {
   "cell_type": "code",
   "execution_count": 5,
   "metadata": {},
   "outputs": [],
   "source": [
    "# torch model\n",
    "from torch import nn, optim\n",
    "import torch.nn.functional as F\n",
    "\n",
    "class Create_pytorch_model(nn.Module):\n",
    "    def __init__(self):\n",
    "        super(Create_pytorch_model, self).__init__()\n",
    "        self.conv1 = nn.Conv2d(in_channels=3, out_channels=32, kernel_size=3, padding=1, stride=1)        \n",
    "        self.conv2 = nn.Conv2d(in_channels=32, out_channels=32, kernel_size=3, padding=1, stride=1)\n",
    "        self.conv3 = nn.Conv2d(in_channels=32, out_channels=64, kernel_size=3, padding=1, stride=1)\n",
    "        self.fc1 = nn.Linear(in_features=64, out_features=2)\n",
    "        \n",
    "    def forward(self, x):\n",
    "        \n",
    "        x = F.max_pool2d(F.relu(self.conv1(x)), kernel_size=2)\n",
    "        x = F.max_pool2d(F.relu(self.conv2(x)), kernel_size=2)\n",
    "        x = F.adaptive_avg_pool2d(F.relu(self.conv3(x)), (1,1))\n",
    "        \n",
    "        x = x.view(x.shape[0], -1)\n",
    "        x = F.log_softmax(self.fc1(x), dim=1)\n",
    "        return x    "
   ]
  },
  {
   "cell_type": "code",
   "execution_count": 6,
   "metadata": {},
   "outputs": [],
   "source": [
    "model = Create_pytorch_model()"
   ]
  },
  {
   "cell_type": "code",
   "execution_count": 7,
   "metadata": {},
   "outputs": [],
   "source": [
    "optimizer = optim.SGD(model.parameters(), lr=1e-2, momentum=0.9)\n",
    "loss_fn = nn.NLLLoss() # cross-entropy, but in single-value encoding (non-onehot)"
   ]
  },
  {
   "cell_type": "code",
   "execution_count": 8,
   "metadata": {},
   "outputs": [
    {
     "name": "stdout",
     "output_type": "stream",
     "text": [
      "cuda\n"
     ]
    },
    {
     "data": {
      "text/plain": [
       "Create_pytorch_model(\n",
       "  (conv1): Conv2d(3, 32, kernel_size=(3, 3), stride=(1, 1), padding=(1, 1))\n",
       "  (conv2): Conv2d(32, 32, kernel_size=(3, 3), stride=(1, 1), padding=(1, 1))\n",
       "  (conv3): Conv2d(32, 64, kernel_size=(3, 3), stride=(1, 1), padding=(1, 1))\n",
       "  (fc1): Linear(in_features=64, out_features=2, bias=True)\n",
       ")"
      ]
     },
     "execution_count": 8,
     "metadata": {},
     "output_type": "execute_result"
    }
   ],
   "source": [
    "device = torch.device('cuda' if torch.cuda.is_available() else 'cpu')\n",
    "print(device)\n",
    "model = model.to(device)\n",
    "\n",
    "# Check the model is in training mode\n",
    "model.train()"
   ]
  },
  {
   "cell_type": "code",
   "execution_count": null,
   "metadata": {},
   "outputs": [
    {
     "name": "stderr",
     "output_type": "stream",
     "text": [
      "100%|██████████| 391/391 [05:08<00:00,  1.27it/s]\n",
      "  0%|          | 0/391 [00:00<?, ?it/s]"
     ]
    },
    {
     "name": "stdout",
     "output_type": "stream",
     "text": [
      "EPOCH: 1\tloss: 0.6917\taccuracy: 0.5246\n"
     ]
    },
    {
     "name": "stderr",
     "output_type": "stream",
     "text": [
      "100%|██████████| 391/391 [02:34<00:00,  2.52it/s]\n",
      "  0%|          | 0/391 [00:00<?, ?it/s]"
     ]
    },
    {
     "name": "stdout",
     "output_type": "stream",
     "text": [
      "EPOCH: 2\tloss: 0.6872\taccuracy: 0.5487\n"
     ]
    },
    {
     "name": "stderr",
     "output_type": "stream",
     "text": [
      " 25%|██▌       | 98/391 [00:38<01:55,  2.54it/s]"
     ]
    }
   ],
   "source": [
    "# Pytorch training loop\n",
    "trainset = DataGenerator(file_list=train_path, transform=py_tra, is_training=True)\n",
    "trainloader = torch.utils.data.DataLoader(trainset, batch_size=64, num_workers=0, shuffle=True)\n",
    "\n",
    "history_loss = []\n",
    "history_acc = []\n",
    "for epoch in range(EPOCHS):\n",
    "    epoch_loss = []\n",
    "    running_acc = []\n",
    "    for image, label in tqdm(trainloader):\n",
    "        y_pred = model(image.cuda())\n",
    "        \n",
    "        loss = loss_fn(y_pred, label.cuda())\n",
    "        epoch_loss.append(loss.item())\n",
    "        \n",
    "        optimizer.zero_grad()\n",
    "        loss.backward()\n",
    "        optimizer.step()\n",
    "        \n",
    "        this_acc = sum(y_pred.argmax(dim=1).cpu().numpy() == label.numpy()) / len(y_pred)\n",
    "        running_acc.append(this_acc) \n",
    "    print(\"EPOCH: %i\\tloss: %.4f\\taccuracy: %.4f\" % (epoch+1, np.mean(epoch_loss), np.mean(running_acc)))\n",
    "    history_loss.append(np.mean(epoch_loss))\n",
    "    history_acc.append(np.mean(running_acc))"
   ]
  }
 ],
 "metadata": {
  "kernelspec": {
   "display_name": "Python 3",
   "language": "python",
   "name": "python3"
  },
  "language_info": {
   "codemirror_mode": {
    "name": "ipython",
    "version": 3
   },
   "file_extension": ".py",
   "mimetype": "text/x-python",
   "name": "python",
   "nbconvert_exporter": "python",
   "pygments_lexer": "ipython3",
   "version": "3.6.3"
  }
 },
 "nbformat": 4,
 "nbformat_minor": 2
}
